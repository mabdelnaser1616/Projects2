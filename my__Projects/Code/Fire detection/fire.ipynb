{
 "cells": [
  {
   "cell_type": "code",
   "execution_count": null,
   "id": "1a85405d",
   "metadata": {},
   "outputs": [],
   "source": [
    "import pyfirmata\n",
    "import pygame\n",
    "import cv2\n",
    "\n",
    "\n",
    "comport='COM3'\n",
    "\n",
    "board=pyfirmata.Arduino(comport)\n",
    "\n",
    "control=board.get_pin('d:9:o')\n",
    "\n",
    "pygame.init()\n",
    "pygame.mixer.init()\n",
    "\n",
    "\n",
    "fire_sound = pygame.mixer.Sound(r\"C:\\Users\\abohamam\\Downloads\\fire-alarm-33770.mp3\")\n",
    "\n",
    "cap = cv2.VideoCapture(0)\n",
    "from ultralytics import YOLO\n",
    "model = YOLO(r\"C:\\Users\\abohamam\\Downloads\\fire.pt\")\n",
    "class_names = ['fire']\n",
    "while True:\n",
    "    ret, frame = cap.read()\n",
    "    if not ret:\n",
    "        print(\"open camera\")\n",
    "        break\n",
    "    results= model(frame)\n",
    "    for result in results:\n",
    "        boxes = result.boxes  # Boxes object for bbox outputs\n",
    "        cls = boxes.cls.tolist()  # Convert tensor to list\n",
    "        if len(cls) == 0:\n",
    "            control.write(0)\n",
    "        else:\n",
    "            control.write(1)\n",
    "            fire_sound.play()\n",
    "    frame2 = results[0].plot()\n",
    "    cv2.imshow('Camera video', frame2)\n",
    "    if cv2.waitKey(1) == ord('q'):\n",
    "        break\n",
    "cap.release()\n",
    "cv2.destroyAllWindows()"
   ]
  },
  {
   "cell_type": "code",
   "execution_count": 1,
   "id": "858419ab",
   "metadata": {},
   "outputs": [
    {
     "name": "stdout",
     "output_type": "stream",
     "text": [
      "pygame 2.5.1 (SDL 2.28.2, Python 3.11.4)\n",
      "Hello from the pygame community. https://www.pygame.org/contribute.html\n"
     ]
    }
   ],
   "source": [
    "import pygame\n",
    "import cv2\n",
    "import pyfirmata"
   ]
  },
  {
   "cell_type": "code",
   "execution_count": null,
   "id": "1bd3480d",
   "metadata": {},
   "outputs": [],
   "source": [
    "comport=\"COM3\"\n",
    "board=pyfirmata.Arduino(comport)\n",
    "control=board.get_pin('d:7:o')\n",
    "pygame.init()\n",
    "pygame.mixer.init()\n",
    "fire_sound=pygame.mixer.Sound(r\"D:\\Ai\\الجداره العربيه\\assment\\assment\\Fire\\Sound.mp3\")\n",
    "cap=VideroCapture(0)\n",
    "from Ultrlytics import YOLO\n",
    "model=YOLO(r\"D:\\Ai\\الجداره العربيه\\assment\\assment\\Fire\\fire.pt\")\n",
    "class_name[\"fire\"]\n",
    "while True:\n",
    "    ret,frame=cap.read()\n",
    "    if not ret:\n",
    "        print(\"please open the camera\")\n",
    "        break\n",
    "    results=model(frame)\n",
    "    for result in results:\n",
    "        boxes=result.boxes\n",
    "        cls=boxes.cls.tolist()\n",
    "        if len(cls)==0:\n",
    "            control.write(0)\n",
    "        else:\n",
    "            control.write(0)\n",
    "            fire_sound.play()\n",
    "    frame2=results[0].plot()\n",
    "    cv2.imshow(\"camera video\",frame2)\n",
    "    if cv2.waitKey(1)==ord('q'):\n",
    "        break\n",
    "cap.release()\n",
    "cv2.destroyAllWindows() \n",
    "        \n",
    "        \n"
   ]
  },
  {
   "cell_type": "code",
   "execution_count": null,
   "id": "ea2a7298",
   "metadata": {},
   "outputs": [],
   "source": [
    "import pygame\n",
    "import pyfirmata\n",
    "import cv2\n",
    "comport='COM3'\n",
    "board=pyfirmata.Arduino(comport)\n",
    "controll=board.get_pin('d:7:o')\n",
    "pygame.init()\n",
    "pyame.mixer.init()\n",
    "fire_sound=pygame.mixer.Sound(r\"D:\\Ai\\الجداره العربيه\\assment\\assment\\Fire\\Sound.mp3\")\n",
    "cap=cv2.VideoCapture(0)\n",
    "from Ultralytics import YOLO\n",
    "model=YOLO(r\"D:\\Ai\\الجداره العربيه\\assment\\assment\\Fire\\fire.pt\")\n",
    "class_name[\"fire\"]\n",
    "while True:\n",
    "    ret,frame =cap.read()\n",
    "    if not ret:\n",
    "        print(\"please open the camera\")\n",
    "        break\n",
    "    results=model(frame)\n",
    "    for result in results:\n",
    "        boxes=result.boxes()\n",
    "        cls=boxes.cls.tolist()\n",
    "        if len (cls)==0:\n",
    "            controll.write(0)\n",
    "        else:\n",
    "            controll.write(1)\n",
    "            fire_sound.play()\n",
    "    frame2=results[0].plot()\n",
    "    cv2.imshow(\"video camer\",frame2)\n",
    "    if cv2.waitKey(1)==ord('q'):\n",
    "        break\n",
    "cap.release()\n",
    "cv2.destroyAllWindows()\n",
    "    \n",
    "\n",
    "  "
   ]
  },
  {
   "cell_type": "code",
   "execution_count": 1,
   "id": "c321673f",
   "metadata": {},
   "outputs": [
    {
     "name": "stdout",
     "output_type": "stream",
     "text": [
      "pygame 2.5.1 (SDL 2.28.2, Python 3.11.4)\n",
      "Hello from the pygame community. https://www.pygame.org/contribute.html\n"
     ]
    },
    {
     "ename": "SerialException",
     "evalue": "could not open port 'COM4': FileNotFoundError(2, 'The system cannot find the file specified.', None, 2)",
     "output_type": "error",
     "traceback": [
      "\u001b[1;31m---------------------------------------------------------------------------\u001b[0m",
      "\u001b[1;31mSerialException\u001b[0m                           Traceback (most recent call last)",
      "Cell \u001b[1;32mIn[1], line 5\u001b[0m\n\u001b[0;32m      3\u001b[0m \u001b[38;5;28;01mimport\u001b[39;00m \u001b[38;5;21;01mcv2\u001b[39;00m\n\u001b[0;32m      4\u001b[0m comport\u001b[38;5;241m=\u001b[39m\u001b[38;5;124m\"\u001b[39m\u001b[38;5;124mCOM4\u001b[39m\u001b[38;5;124m\"\u001b[39m\n\u001b[1;32m----> 5\u001b[0m board\u001b[38;5;241m=\u001b[39m  pyfirmata\u001b[38;5;241m.\u001b[39mArduino(comport)\n\u001b[0;32m      6\u001b[0m controll\u001b[38;5;241m=\u001b[39mboard\u001b[38;5;241m.\u001b[39mget_pin(\u001b[38;5;124m'\u001b[39m\u001b[38;5;124md:7:o\u001b[39m\u001b[38;5;124m'\u001b[39m)\n\u001b[0;32m      7\u001b[0m pygame\u001b[38;5;241m.\u001b[39minit()\n",
      "File \u001b[1;32m~\\anaconda3\\Lib\\site-packages\\pyfirmata\\__init__.py:19\u001b[0m, in \u001b[0;36mArduino.__init__\u001b[1;34m(self, *args, **kwargs)\u001b[0m\n\u001b[0;32m     17\u001b[0m args \u001b[38;5;241m=\u001b[39m \u001b[38;5;28mlist\u001b[39m(args)\n\u001b[0;32m     18\u001b[0m args\u001b[38;5;241m.\u001b[39mappend(BOARDS[\u001b[38;5;124m'\u001b[39m\u001b[38;5;124marduino\u001b[39m\u001b[38;5;124m'\u001b[39m])\n\u001b[1;32m---> 19\u001b[0m \u001b[38;5;28msuper\u001b[39m(Arduino, \u001b[38;5;28mself\u001b[39m)\u001b[38;5;241m.\u001b[39m\u001b[38;5;21m__init__\u001b[39m(\u001b[38;5;241m*\u001b[39margs, \u001b[38;5;241m*\u001b[39m\u001b[38;5;241m*\u001b[39mkwargs)\n",
      "File \u001b[1;32m~\\anaconda3\\Lib\\site-packages\\pyfirmata\\pyfirmata.py:89\u001b[0m, in \u001b[0;36mBoard.__init__\u001b[1;34m(self, port, layout, baudrate, name, timeout)\u001b[0m\n\u001b[0;32m     88\u001b[0m \u001b[38;5;28;01mdef\u001b[39;00m \u001b[38;5;21m__init__\u001b[39m(\u001b[38;5;28mself\u001b[39m, port, layout\u001b[38;5;241m=\u001b[39m\u001b[38;5;28;01mNone\u001b[39;00m, baudrate\u001b[38;5;241m=\u001b[39m\u001b[38;5;241m57600\u001b[39m, name\u001b[38;5;241m=\u001b[39m\u001b[38;5;28;01mNone\u001b[39;00m, timeout\u001b[38;5;241m=\u001b[39m\u001b[38;5;28;01mNone\u001b[39;00m):\n\u001b[1;32m---> 89\u001b[0m     \u001b[38;5;28mself\u001b[39m\u001b[38;5;241m.\u001b[39msp \u001b[38;5;241m=\u001b[39m serial\u001b[38;5;241m.\u001b[39mSerial(port, baudrate, timeout\u001b[38;5;241m=\u001b[39mtimeout)\n\u001b[0;32m     90\u001b[0m     \u001b[38;5;66;03m# Allow 5 secs for Arduino's auto-reset to happen\u001b[39;00m\n\u001b[0;32m     91\u001b[0m     \u001b[38;5;66;03m# Alas, Firmata blinks its version before printing it to serial\u001b[39;00m\n\u001b[0;32m     92\u001b[0m     \u001b[38;5;66;03m# For 2.3, even 5 seconds might not be enough.\u001b[39;00m\n\u001b[0;32m     93\u001b[0m     \u001b[38;5;66;03m# TODO Find a more reliable way to wait until the board is ready\u001b[39;00m\n\u001b[0;32m     94\u001b[0m     \u001b[38;5;28mself\u001b[39m\u001b[38;5;241m.\u001b[39mpass_time(BOARD_SETUP_WAIT_TIME)\n",
      "File \u001b[1;32m~\\anaconda3\\Lib\\site-packages\\serial\\serialwin32.py:33\u001b[0m, in \u001b[0;36mSerial.__init__\u001b[1;34m(self, *args, **kwargs)\u001b[0m\n\u001b[0;32m     31\u001b[0m \u001b[38;5;28mself\u001b[39m\u001b[38;5;241m.\u001b[39m_overlapped_read \u001b[38;5;241m=\u001b[39m \u001b[38;5;28;01mNone\u001b[39;00m\n\u001b[0;32m     32\u001b[0m \u001b[38;5;28mself\u001b[39m\u001b[38;5;241m.\u001b[39m_overlapped_write \u001b[38;5;241m=\u001b[39m \u001b[38;5;28;01mNone\u001b[39;00m\n\u001b[1;32m---> 33\u001b[0m \u001b[38;5;28msuper\u001b[39m(Serial, \u001b[38;5;28mself\u001b[39m)\u001b[38;5;241m.\u001b[39m\u001b[38;5;21m__init__\u001b[39m(\u001b[38;5;241m*\u001b[39margs, \u001b[38;5;241m*\u001b[39m\u001b[38;5;241m*\u001b[39mkwargs)\n",
      "File \u001b[1;32m~\\anaconda3\\Lib\\site-packages\\serial\\serialutil.py:244\u001b[0m, in \u001b[0;36mSerialBase.__init__\u001b[1;34m(self, port, baudrate, bytesize, parity, stopbits, timeout, xonxoff, rtscts, write_timeout, dsrdtr, inter_byte_timeout, exclusive, **kwargs)\u001b[0m\n\u001b[0;32m    241\u001b[0m     \u001b[38;5;28;01mraise\u001b[39;00m \u001b[38;5;167;01mValueError\u001b[39;00m(\u001b[38;5;124m'\u001b[39m\u001b[38;5;124munexpected keyword arguments: \u001b[39m\u001b[38;5;132;01m{!r}\u001b[39;00m\u001b[38;5;124m'\u001b[39m\u001b[38;5;241m.\u001b[39mformat(kwargs))\n\u001b[0;32m    243\u001b[0m \u001b[38;5;28;01mif\u001b[39;00m port \u001b[38;5;129;01mis\u001b[39;00m \u001b[38;5;129;01mnot\u001b[39;00m \u001b[38;5;28;01mNone\u001b[39;00m:\n\u001b[1;32m--> 244\u001b[0m     \u001b[38;5;28mself\u001b[39m\u001b[38;5;241m.\u001b[39mopen()\n",
      "File \u001b[1;32m~\\anaconda3\\Lib\\site-packages\\serial\\serialwin32.py:64\u001b[0m, in \u001b[0;36mSerial.open\u001b[1;34m(self)\u001b[0m\n\u001b[0;32m     62\u001b[0m \u001b[38;5;28;01mif\u001b[39;00m \u001b[38;5;28mself\u001b[39m\u001b[38;5;241m.\u001b[39m_port_handle \u001b[38;5;241m==\u001b[39m win32\u001b[38;5;241m.\u001b[39mINVALID_HANDLE_VALUE:\n\u001b[0;32m     63\u001b[0m     \u001b[38;5;28mself\u001b[39m\u001b[38;5;241m.\u001b[39m_port_handle \u001b[38;5;241m=\u001b[39m \u001b[38;5;28;01mNone\u001b[39;00m    \u001b[38;5;66;03m# 'cause __del__ is called anyway\u001b[39;00m\n\u001b[1;32m---> 64\u001b[0m     \u001b[38;5;28;01mraise\u001b[39;00m SerialException(\u001b[38;5;124m\"\u001b[39m\u001b[38;5;124mcould not open port \u001b[39m\u001b[38;5;132;01m{!r}\u001b[39;00m\u001b[38;5;124m: \u001b[39m\u001b[38;5;132;01m{!r}\u001b[39;00m\u001b[38;5;124m\"\u001b[39m\u001b[38;5;241m.\u001b[39mformat(\u001b[38;5;28mself\u001b[39m\u001b[38;5;241m.\u001b[39mportstr, ctypes\u001b[38;5;241m.\u001b[39mWinError()))\n\u001b[0;32m     66\u001b[0m \u001b[38;5;28;01mtry\u001b[39;00m:\n\u001b[0;32m     67\u001b[0m     \u001b[38;5;28mself\u001b[39m\u001b[38;5;241m.\u001b[39m_overlapped_read \u001b[38;5;241m=\u001b[39m win32\u001b[38;5;241m.\u001b[39mOVERLAPPED()\n",
      "\u001b[1;31mSerialException\u001b[0m: could not open port 'COM4': FileNotFoundError(2, 'The system cannot find the file specified.', None, 2)"
     ]
    }
   ],
   "source": [
    "import pygame\n",
    "import pyfirmata\n",
    "import cv2\n",
    "comport=\"COM4\"\n",
    "board=  pyfirmata.Arduino(comport)\n",
    "controll=board.get_pin('d:7:o')\n",
    "pygame.init()\n",
    "pygame.mixer.init()\n",
    "sound=pygame.mixer.Sound(r\"D:\\Ai\\الجداره العربيه\\assment\\assment\\Fire\\Sound.mp3\")\n",
    "cap=cv2.VideoCapture(1)\n",
    "from ultralytics import YOLO\n",
    "model=YOLO(r\"D:\\Ai\\الجداره العربيه\\assment\\assment\\Fire\\fire.pt\")\n",
    "class_name['fire']\n",
    "while True:\n",
    "    ret,frame= cap.read()\n",
    "    if not ret :\n",
    "        print(\"not camera\")\n",
    "        break\n",
    "    results=model(frame2)\n",
    "    for result in results:\n",
    "        boxes=result.boxes()\n",
    "        cls=boxes.cls.tolist()\n",
    "        if len(cls)==0:\n",
    "            controll.write(0)\n",
    "        else:\n",
    "            controll.write(1)\n",
    "            sound.play()\n",
    "    frame2=rsults.[0].plot()\n",
    "    cv2.imshow(\"video\",frame2)\n",
    "    if cv2.waitKey(1)==ord(q)\n",
    "    "
   ]
  },
  {
   "cell_type": "code",
   "execution_count": null,
   "id": "e6e55079",
   "metadata": {},
   "outputs": [],
   "source": [
    "import cv2    \n",
    "cap=cv2.VideoCapture(1)\n",
    "from ultralytics import YOLO\n",
    "model=YOLO(r\"D:\\Ai\\الجداره العربيه\\assment\\assment\\Fire\\fire.pt\")\n",
    "while True:\n",
    "    ret,frame2= cap.read()\n",
    "    if not ret:\n",
    "        print(\"please open the camera\")\n",
    "        break\n",
    "    results=model(frame2)\n",
    "    frame2=results[0].plot()\n",
    "    cv2.imshow(\"video \",frame2)\n",
    "    if cv2.waitKey(1)==ord('q')\n",
    "cap.release()\n",
    "cv2.destroyAllWindows()"
   ]
  },
  {
   "cell_type": "code",
   "execution_count": null,
   "id": "8e622211",
   "metadata": {},
   "outputs": [],
   "source": []
  }
 ],
 "metadata": {
  "kernelspec": {
   "display_name": "Python 3 (ipykernel)",
   "language": "python",
   "name": "python3"
  },
  "language_info": {
   "codemirror_mode": {
    "name": "ipython",
    "version": 3
   },
   "file_extension": ".py",
   "mimetype": "text/x-python",
   "name": "python",
   "nbconvert_exporter": "python",
   "pygments_lexer": "ipython3",
   "version": "3.11.4"
  }
 },
 "nbformat": 4,
 "nbformat_minor": 5
}
